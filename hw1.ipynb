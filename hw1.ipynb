{
 "cells": [
  {
   "cell_type": "code",
   "execution_count": 1,
   "metadata": {},
   "outputs": [],
   "source": [
    "import torch\n",
    "from torch import utils\n",
    "from torchvision import datasets, transforms"
   ]
  },
  {
   "cell_type": "code",
   "execution_count": 14,
   "metadata": {},
   "outputs": [],
   "source": [
    "def mnist(batch_size=50, shuffle=True, path='./MNIST_data'):\n",
    "    mean_std_data = datasets.MNIST(path, train=True, download=True, transform=transforms.ToTensor())\n",
    "    \n",
    "    mean_std_batch, _ = next(iter(utils.data.DataLoader(mean_std_data, batch_size=len(train_data))))\n",
    "    mean = torch.mean(mean_std_batch)\n",
    "    std = torch.std(mean_std_batch)\n",
    "    \n",
    "    tr = transforms.Compose([\n",
    "                transforms.ToTensor(),\n",
    "                transforms.Normalize((mean,), (std,)),\n",
    "           ])\n",
    "    \n",
    "    train_data = datasets.MNIST(path, train=True, download=False, transform=tr)\n",
    "    test_data = datasets.MNIST(path, train=False, download=True, transform=tr)\n",
    "    \n",
    "    train_loader = utils.data.DataLoader(train_data, batch_size=batch_size, shuffle=shuffle)\n",
    "    test_loader = utils.data.DataLoader(test_data, batch_size=batch_size, shuffle=shuffle)\n",
    "    \n",
    "    return train_loader, test_loader"
   ]
  },
  {
   "cell_type": "code",
   "execution_count": 20,
   "metadata": {},
   "outputs": [],
   "source": [
    "def homework_transform(img):\n",
    "    img = transforms.ToTensor()(img)\n",
    "    \n",
    "    mean = torch.mean(img)\n",
    "    std = torch.std(img)\n",
    "    \n",
    "    img =  transforms.Normalize((mean,), (std,))(img)\n",
    "    \n",
    "    return img"
   ]
  },
  {
   "cell_type": "code",
   "execution_count": 15,
   "metadata": {},
   "outputs": [
    {
     "name": "stdout",
     "output_type": "stream",
     "text": [
      "tensor(0.1307)\n"
     ]
    }
   ],
   "source": [
    "train_loader, test_loader = mnist(batch_size=10000)"
   ]
  },
  {
   "cell_type": "code",
   "execution_count": 4,
   "metadata": {},
   "outputs": [],
   "source": [
    "test_batch, _ = next(iter(test_loader))"
   ]
  },
  {
   "cell_type": "code",
   "execution_count": 5,
   "metadata": {},
   "outputs": [
    {
     "name": "stdout",
     "output_type": "stream",
     "text": [
      "tensor(4.8842e-08)\n",
      "tensor(0.9994)\n"
     ]
    }
   ],
   "source": [
    "print(torch.mean(batch))\n",
    "print(torch.std(batch))"
   ]
  },
  {
   "cell_type": "code",
   "execution_count": null,
   "metadata": {},
   "outputs": [],
   "source": []
  }
 ],
 "metadata": {
  "kernelspec": {
   "display_name": "Python 3",
   "language": "python",
   "name": "python3"
  },
  "language_info": {
   "codemirror_mode": {
    "name": "ipython",
    "version": 3
   },
   "file_extension": ".py",
   "mimetype": "text/x-python",
   "name": "python",
   "nbconvert_exporter": "python",
   "pygments_lexer": "ipython3",
   "version": "3.7.1"
  }
 },
 "nbformat": 4,
 "nbformat_minor": 2
}
